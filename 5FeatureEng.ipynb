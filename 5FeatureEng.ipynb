{
 "cells": [
  {
   "cell_type": "markdown",
   "id": "77e5f0bd-9d11-4b72-8187-599816d4c524",
   "metadata": {},
   "source": [
    "# Q1.\n",
    "###  What is the difference between Ordinal Encoding and Label Encoding? Provide an example of when you might choose one over the other."
   ]
  },
  {
   "cell_type": "markdown",
   "id": "66a61ec8-4f11-44e0-aa55-6dab0c3154c1",
   "metadata": {},
   "source": [
    "Ordinal Encoding: Involves assigning numerical values to categorical variables with an inherent order. \n",
    "\n",
    "Label Encoding: Involves assigning numerical labels to different categories without considering any order.\n",
    "\n",
    "Choose Ordinal Encoding when there is a clear order or rank among categories, and Label Encoding when there is no meaningful order."
   ]
  },
  {
   "cell_type": "markdown",
   "id": "f14f1831-4b43-4813-b4e3-0c39481e4e5b",
   "metadata": {},
   "source": [
    "# Q2.\n",
    "### Explain how Target Guided Ordinal Encoding works and provide an example of when you might use it in a machine learning project."
   ]
  },
  {
   "cell_type": "markdown",
   "id": "faff0298-bd4f-48fb-bebd-024d9d568891",
   "metadata": {},
   "source": [
    "- Target Guided Ordinal Encoding involves encoding categorical variables based on their relationship with the target variable. For each category, the mean of the target variable is calculated, and categories are ranked accordingly. This is useful when there is an ordinal relationship between the categorical variable and the target variable."
   ]
  },
  {
   "cell_type": "markdown",
   "id": "4e3cacf3-e9f0-42c7-a981-ee4526323d85",
   "metadata": {},
   "source": [
    "# Q3.\n",
    "###  Define covariance and explain why it is important in statistical analysis. How is covariance calculated?"
   ]
  },
  {
   "cell_type": "markdown",
   "id": "4b974993-5252-457b-a0de-846bdf93d4e6",
   "metadata": {},
   "source": [
    "- Covariance measures how two variables change together.  Covariance is crucial in understanding relationships between variables. \n",
    "- Cov(x,y) = summation of [(xi-x^)*(yi-y^)]/N-1"
   ]
  },
  {
   "cell_type": "markdown",
   "id": "b576fbfe-86b8-4041-9b95-d373699cc544",
   "metadata": {},
   "source": [
    "# Q4.\n",
    "### For a dataset with the following categorical variables: Color (red, green, blue), Size (small, medium, large), and Material (wood, metal, plastic), perform label encoding using Python's scikit-learn library. Show your code and explain the output."
   ]
  },
  {
   "cell_type": "code",
   "execution_count": 11,
   "id": "34beb61f-b6d4-4e98-a3f1-ced8b446821b",
   "metadata": {},
   "outputs": [
    {
     "data": {
      "text/html": [
       "<div>\n",
       "<style scoped>\n",
       "    .dataframe tbody tr th:only-of-type {\n",
       "        vertical-align: middle;\n",
       "    }\n",
       "\n",
       "    .dataframe tbody tr th {\n",
       "        vertical-align: top;\n",
       "    }\n",
       "\n",
       "    .dataframe thead th {\n",
       "        text-align: right;\n",
       "    }\n",
       "</style>\n",
       "<table border=\"1\" class=\"dataframe\">\n",
       "  <thead>\n",
       "    <tr style=\"text-align: right;\">\n",
       "      <th></th>\n",
       "      <th>Color</th>\n",
       "      <th>Size</th>\n",
       "      <th>Material</th>\n",
       "    </tr>\n",
       "  </thead>\n",
       "  <tbody>\n",
       "    <tr>\n",
       "      <th>0</th>\n",
       "      <td>2</td>\n",
       "      <td>2</td>\n",
       "      <td>2</td>\n",
       "    </tr>\n",
       "    <tr>\n",
       "      <th>1</th>\n",
       "      <td>1</td>\n",
       "      <td>1</td>\n",
       "      <td>0</td>\n",
       "    </tr>\n",
       "    <tr>\n",
       "      <th>2</th>\n",
       "      <td>0</td>\n",
       "      <td>0</td>\n",
       "      <td>1</td>\n",
       "    </tr>\n",
       "    <tr>\n",
       "      <th>3</th>\n",
       "      <td>2</td>\n",
       "      <td>1</td>\n",
       "      <td>0</td>\n",
       "    </tr>\n",
       "    <tr>\n",
       "      <th>4</th>\n",
       "      <td>1</td>\n",
       "      <td>2</td>\n",
       "      <td>2</td>\n",
       "    </tr>\n",
       "  </tbody>\n",
       "</table>\n",
       "</div>"
      ],
      "text/plain": [
       "   Color  Size  Material\n",
       "0      2     2         2\n",
       "1      1     1         0\n",
       "2      0     0         1\n",
       "3      2     1         0\n",
       "4      1     2         2"
      ]
     },
     "execution_count": 11,
     "metadata": {},
     "output_type": "execute_result"
    }
   ],
   "source": [
    "from sklearn.preprocessing import LabelEncoder\n",
    "import pandas as pd\n",
    "\n",
    "data = {'Color': ['red', 'green', 'blue', 'red', 'green'],\n",
    "        'Size': ['small', 'medium', 'large', 'medium', 'small'],\n",
    "        'Material': ['wood', 'metal', 'plastic', 'metal', 'wood']}\n",
    "\n",
    "df = pd.DataFrame(data)\n",
    "label_encoder = LabelEncoder()\n",
    "df_encoded = df.apply(label_encoder.fit_transform)\n",
    "df_encoded"
   ]
  },
  {
   "cell_type": "markdown",
   "id": "9226e24a-ca76-4bed-8cee-f8d361c55efe",
   "metadata": {},
   "source": [
    "# Q5.\n",
    "### Calculate the covariance matrix for the following variables in a dataset: Age, Income, and Education level. Interpret the results."
   ]
  },
  {
   "cell_type": "markdown",
   "id": "3c7a4083-3fc8-4ec0-b80a-788f2b3b7e33",
   "metadata": {},
   "source": [
    "- Positive covariances indicate a positive relationship between variables.\n",
    "- Negative covariances indicate a negative relationship.\n",
    "- Magnitude of the covariance depends on the scale of the variables."
   ]
  },
  {
   "cell_type": "markdown",
   "id": "f670c6ec-cfa5-4377-a269-50e7df8bbdae",
   "metadata": {},
   "source": [
    "# Q6.\n",
    "###  You are working on a machine learning project with a dataset containing several categorical variables. Which encoding method would you use for each variable, and why?"
   ]
  },
  {
   "cell_type": "markdown",
   "id": "8a51fe00-dbc0-4809-a46c-26537ad2a00f",
   "metadata": {},
   "source": [
    "- Gender : Label encoding because there are only two categories and no ordinal relationship.\n",
    "\n",
    "- Education Level : Ordinal encoding due to the inherent order.\n",
    "\n",
    "- Employment Status : One-hot encoding as there is no inherent order, and one-hot is suitable for multiple categories."
   ]
  },
  {
   "cell_type": "markdown",
   "id": "a799a196-be03-4713-b9e8-5498c10b6908",
   "metadata": {},
   "source": [
    "# Q7.\n",
    "### You are analyzing a dataset with two continuous variables, \"Temperature\" and \"Humidity\", and two categorical variables, \"Weather Condition\" (Sunny/Cloudy/Rainy) and \"Wind Direction\" (North/South/East/West). Calculate the covariance between each pair of variables and interpret the results."
   ]
  },
  {
   "cell_type": "markdown",
   "id": "a8c037e0-8605-4bb7-a9f1-ff57ec247a7c",
   "metadata": {},
   "source": [
    "Positive covariance between Temperature and Humidity implies that they tend to increase or decrease together.\n",
    "Covariance with categorical variables helps understand how they change concerning continuous variables, but the interpretation is less straightforward than with two continuous variables."
   ]
  }
 ],
 "metadata": {
  "kernelspec": {
   "display_name": "Python 3 (ipykernel)",
   "language": "python",
   "name": "python3"
  },
  "language_info": {
   "codemirror_mode": {
    "name": "ipython",
    "version": 3
   },
   "file_extension": ".py",
   "mimetype": "text/x-python",
   "name": "python",
   "nbconvert_exporter": "python",
   "pygments_lexer": "ipython3",
   "version": "3.10.8"
  }
 },
 "nbformat": 4,
 "nbformat_minor": 5
}
